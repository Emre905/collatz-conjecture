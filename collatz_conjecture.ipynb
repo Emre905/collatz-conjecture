{
 "cells": [
  {
   "cell_type": "code",
   "execution_count": 2,
   "metadata": {},
   "outputs": [],
   "source": [
    "def collatz_sequence(x):\n",
    "    seq = [x]\n",
    "    while seq[-1] > 1:\n",
    "       if x % 2 == 0:\n",
    "         seq.append(x//2)\n",
    "       else:\n",
    "         seq.append(3*x+1)\n",
    "       x = seq[-1]\n",
    "    return seq\n",
    "\n",
    "# motivation for this function was that (9/8)^6 = 2.027 (then we can get /2 and it'd be 1.0135, the goal is to get as close as possible to 1) \n",
    "# but nothing good came up from here\n",
    "def collatz_sequence_v2(x):\n",
    "    seq = [x]\n",
    "    increment = []\n",
    "    while seq[-1] > 1:\n",
    "       if x % 2 == 0:\n",
    "         seq.append(x//2)\n",
    "         increment.append(2)\n",
    "       else:\n",
    "         seq.append(3*x+1)\n",
    "         increment.append(3)\n",
    "       x = seq[-1]\n",
    "    return seq, increment\n"
   ]
  },
  {
   "cell_type": "markdown",
   "metadata": {},
   "source": [
    "## how close $3^m$ can be to $2^n$"
   ]
  },
  {
   "cell_type": "code",
   "execution_count": 23,
   "metadata": {},
   "outputs": [],
   "source": [
    "def get_interval(a,b, rng):    \n",
    "    x = 3/2\n",
    "    m,n = 1,1\n",
    "    powers_seq2 = []\n",
    "    for i in range(rng):\n",
    "        if x > 1:\n",
    "            x = x/2\n",
    "            n += 1\n",
    "        else:\n",
    "            x = 3*x\n",
    "            m += 1\n",
    "        if a < 1-x < b:\n",
    "            powers_seq2.append([m,n,x])\n",
    "    return powers_seq2"
   ]
  },
  {
   "cell_type": "code",
   "execution_count": 29,
   "metadata": {},
   "outputs": [
    {
     "name": "stdout",
     "output_type": "stream",
     "text": [
      "{(1779, 29, 46): 0.999438202247191, (1731, 46, 73): 0.9994226327944573, (1823, 46, 73): 1.0005488474204172}\n"
     ]
    }
   ],
   "source": [
    "l = []\n",
    "powers_seq2 = get_interval(0.01, 0.2, 150)\n",
    "results = dict()\n",
    "\n",
    "for m,n,k in powers_seq2:\n",
    "    for i in range(2,2000):\n",
    "        seq, inc = collatz_sequence_v2(i)\n",
    "        inc2 = inc[:m+n]\n",
    "        count3 = inc2.count(3)\n",
    "        count2 = inc2.count(2)\n",
    "        if count2 == n and count3 == m:\n",
    "            l.append(i)\n",
    "\n",
    "    for i in l:\n",
    "        seq = collatz_sequence(i)\n",
    "        try:\n",
    "            ratio = seq[0] / seq[m+n] # raises error when there are not m+n terms\n",
    "        except IndexError:\n",
    "            continue\n",
    "        if 0.9994 < ratio and ratio < 1.0006:\n",
    "            results[(i,m,n)] = ratio\n",
    "print(results)"
   ]
  },
  {
   "cell_type": "markdown",
   "metadata": {},
   "source": [
    "## So, we've managed to get terms with 1 difference. (getting same term would end up in an infinite loop and disprove conjecture)"
   ]
  },
  {
   "cell_type": "code",
   "execution_count": 5,
   "metadata": {},
   "outputs": [
    {
     "name": "stdout",
     "output_type": "stream",
     "text": [
      "1st term: 1779, 76th term: 1780\n",
      "1st term: 1731, 120th term: 1732\n",
      "1st term: 1823, 120th term: 1822\n"
     ]
    }
   ],
   "source": [
    "for i,m,n in results:\n",
    "    seq = collatz_sequence(i)\n",
    "    print(f\"1st term: {seq[0]}, {m+n+1}th term: {seq[m+n]}\")"
   ]
  },
  {
   "cell_type": "markdown",
   "metadata": {},
   "source": [
    "# by increasing range we can get more terms (naturally giving bigger gaps, highest we get for 1 difference is 9233 9232)"
   ]
  },
  {
   "cell_type": "code",
   "execution_count": 45,
   "metadata": {},
   "outputs": [
    {
     "name": "stdout",
     "output_type": "stream",
     "text": [
      "1st term: 1779, 76th term: 1780\n",
      "1st term: 4617, 76th term: 4616\n",
      "1st term: 3239, 76th term: 3238\n",
      "1st term: 2159, 76th term: 2158\n",
      "1st term: 4859, 76th term: 4858\n",
      "1st term: 7289, 76th term: 7288\n",
      "1st term: 1731, 120th term: 1732\n",
      "1st term: 2307, 120th term: 2308\n",
      "1st term: 2735, 120th term: 2734\n",
      "1st term: 3643, 120th term: 3644\n",
      "1st term: 4103, 120th term: 4102\n",
      "1st term: 4857, 120th term: 4858\n",
      "1st term: 1823, 120th term: 1822\n",
      "1st term: 2430, 120th term: 2429\n",
      "1st term: 6155, 120th term: 6154\n",
      "1st term: 7287, 120th term: 7288\n",
      "1st term: 9233, 120th term: 9232\n"
     ]
    }
   ],
   "source": [
    "l = []\n",
    "powers_seq2 = get_interval(0, 0.1, 120)\n",
    "results = dict()\n",
    "\n",
    "for m,n,k in powers_seq2:\n",
    "    for i in range(2,20000):\n",
    "        seq, inc = collatz_sequence_v2(i)\n",
    "        inc2 = inc[:m+n]\n",
    "        count3 = inc2.count(3)\n",
    "        count2 = inc2.count(2)\n",
    "        if count2 == n and count3 == m:\n",
    "            l.append(i)\n",
    "\n",
    "    for i in l:\n",
    "        seq = collatz_sequence(i)\n",
    "        try:\n",
    "            ratio = seq[0] / seq[m+n]\n",
    "        except:\n",
    "            continue\n",
    "        if 0.9994 < ratio and ratio < 1.0006:\n",
    "            results[(i,m,n)] = ratio\n",
    "\n",
    "for i,m,n in results:\n",
    "    seq = collatz_sequence(i)\n",
    "    if abs(seq[m+n] - seq[0]) < 2: #this part is optinal, made to see less print\n",
    "        print(f\"1st term: {seq[0]}, {m+n+1}th term: {seq[m+n]}\")"
   ]
  }
 ],
 "metadata": {
  "kernelspec": {
   "display_name": "Python 3",
   "language": "python",
   "name": "python3"
  },
  "language_info": {
   "codemirror_mode": {
    "name": "ipython",
    "version": 3
   },
   "file_extension": ".py",
   "mimetype": "text/x-python",
   "name": "python",
   "nbconvert_exporter": "python",
   "pygments_lexer": "ipython3",
   "version": "3.12.4"
  }
 },
 "nbformat": 4,
 "nbformat_minor": 2
}
